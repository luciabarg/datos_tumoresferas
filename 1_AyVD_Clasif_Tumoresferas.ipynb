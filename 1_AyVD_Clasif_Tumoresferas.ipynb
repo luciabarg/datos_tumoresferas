{
  "cells": [
    {
      "attachments": {},
      "cell_type": "markdown",
      "metadata": {
        "id": "-S_T19aNnGhb"
      },
      "source": [
        "\n",
        "<center>\n",
        "<h4>Universidad Nacional de Córdoba - Facultad de Matemática, Astronomía, Física y Computación</h4>\n",
        "<h3>Diplomatura en Ciencia de Datos, Aprendizaje Automático y sus Aplicaciones</h3>\n",
        " <h2>Mentoría: Clasificación de Tumoresferas </h2>\n",
        "</center>\n",
        "\n"
      ]
    },
    {
      "attachments": {},
      "cell_type": "markdown",
      "metadata": {
        "id": "OCZIyaVatb3o"
      },
      "source": [
        "<a name=\"exploratory_data_analysis\"></a>\n",
        "#### **Práctico de Análisis Exploratorio y Visualización**\n",
        "\n"
      ]
    },
    {
      "attachments": {},
      "cell_type": "markdown",
      "metadata": {
        "id": "YDqZBNBx_PLP"
      },
      "source": [
        "### Descripción de los datos: \n",
        "\n",
        "Se tratan de datos procesados en el [Grupo de Materia Condensada](https://ri.conicet.gov.ar/handle/11336/102) (FaMAF-UNC, IFEG-CONICET) en colaboración con el Laboratorio de Células Madre del [IBYME-CONICET](https://www.ibyme.org.ar/laboratorios/49/celulas-madre) a partir de imágenes tomadas usando un microscopio óptico invertido común.\n",
        "\n",
        "\n",
        "Para extraer la información estructurada a partir de las imágenes se hizo uso del programa Fiji, que es un paquete de procesamiento de imágenes, distribución muy completa del programa [ImageJ](https://www.medicinatv.com/profesional/reportajes/una-plataforma-abierta-revoluciona-el-procesamiento-de-imagenes-biomedicas-4596/), que es ampliamente utilizado para procesar\n",
        "imágenes médicas. \n",
        "\n",
        "De acuerdo a la documentación del programa,\n",
        "es posible contar y medir objetos si conocemos la escala en la cual se han\n",
        "llevado a cabo dichas imágenes, en este caso, a cuántos $\\mu$m equivale un\n",
        "píxel.\n",
        "Para llevar a cabo el procedimiento detallado en la [documentación](https://imagej.nih.gov/ij/docs/guide/146-30.html#sub:Analyze-Particles...),\n",
        "es necesario contar con una imagen umbralizada. \n",
        "\n",
        "Se realizó este procedimiento en las 91 imágenes disponibles y se etiquetaron en *esferoides* 'si' y 'no' de acuerdo al criterio de un [experto](https://www.conicet.gov.ar/new_scp/detalle.php?id=43977&datos_academicos=yes), obteniendo 1018 datos.\n",
        "\n"
      ]
    },
    {
      "cell_type": "code",
      "execution_count": 1,
      "metadata": {
        "id": "9QondG6tkQI3"
      },
      "outputs": [
        {
          "data": {
            "text/html": [
              "<img src=\"https://raw.githubusercontent.com/luciabarg/datos_tumoresferas/main/ejemplo_segmentacion.png\" width=\"800\" height=\"300\"/>"
            ],
            "text/plain": [
              "<IPython.core.display.Image object>"
            ]
          },
          "execution_count": 1,
          "metadata": {},
          "output_type": "execute_result"
        }
      ],
      "source": [
        "# Ejemplo de una de las imágenes umbralizadas:\n",
        "from IPython.display import Image\n",
        "Image(url=\"https://raw.githubusercontent.com/luciabarg/datos_tumoresferas/main/ejemplo_segmentacion.png\", width = 800, height = 300)"
      ]
    },
    {
      "attachments": {},
      "cell_type": "markdown",
      "metadata": {
        "id": "cIXIZi43XKcC"
      },
      "source": [
        "Importamos las librerías necesarias:"
      ]
    },
    {
      "cell_type": "code",
      "execution_count": 2,
      "metadata": {
        "id": "kdtKG4W2XL1d"
      },
      "outputs": [],
      "source": [
        "import numpy as np\n",
        "import pandas as pd\n",
        "import matplotlib.pyplot as plt\n",
        "import seaborn as sns\n",
        "\n",
        "sns.set_context('talk') \n",
        "# por si quieren ver los distintos formatos:\n",
        "# https://datavizpyr.com/seaborn-set_context-to-adjust-size-of-plot-labels-and-lines/\n",
        "# https://seaborn.pydata.org/generated/seaborn.set_context.html\n",
        "\n",
        "import warnings\n",
        "warnings.filterwarnings(\"ignore\")"
      ]
    },
    {
      "attachments": {},
      "cell_type": "markdown",
      "metadata": {
        "id": "8V57T-iVlsLw"
      },
      "source": [
        "## Datos\n"
      ]
    },
    {
      "attachments": {},
      "cell_type": "markdown",
      "metadata": {
        "id": "LMmFOl2vYzk-"
      },
      "source": [
        "Cargamos los datos de los experimentos realizados desde el día cero al séptimo. \n",
        "\n",
        "\n",
        "Ya se encuentran las etiquetas y el valor de las poblaciones celulares estimadas en cada esferoide."
      ]
    },
    {
      "cell_type": "code",
      "execution_count": 3,
      "metadata": {
        "colab": {
          "base_uri": "https://localhost:8080/",
          "height": 300
        },
        "id": "HMe9vJFGXOYN",
        "outputId": "6cb4f085-da9d-4fe4-929e-5beaca7b1144"
      },
      "outputs": [
        {
          "name": "stdout",
          "output_type": "stream",
          "text": [
            "cantidad de datos: 1018\n"
          ]
        },
        {
          "data": {
            "text/html": [
              "<div>\n",
              "<style scoped>\n",
              "    .dataframe tbody tr th:only-of-type {\n",
              "        vertical-align: middle;\n",
              "    }\n",
              "\n",
              "    .dataframe tbody tr th {\n",
              "        vertical-align: top;\n",
              "    }\n",
              "\n",
              "    .dataframe thead th {\n",
              "        text-align: right;\n",
              "    }\n",
              "</style>\n",
              "<table border=\"1\" class=\"dataframe\">\n",
              "  <thead>\n",
              "    <tr style=\"text-align: right;\">\n",
              "      <th></th>\n",
              "      <th>labels</th>\n",
              "      <th>Area</th>\n",
              "      <th>X</th>\n",
              "      <th>Y</th>\n",
              "      <th>XM</th>\n",
              "      <th>YM</th>\n",
              "      <th>Perim.</th>\n",
              "      <th>BX</th>\n",
              "      <th>BY</th>\n",
              "      <th>Width</th>\n",
              "      <th>...</th>\n",
              "      <th>FeretY</th>\n",
              "      <th>FeretAngle</th>\n",
              "      <th>MinFeret</th>\n",
              "      <th>AR</th>\n",
              "      <th>Round</th>\n",
              "      <th>Solidity</th>\n",
              "      <th>Esferoide</th>\n",
              "      <th>dia</th>\n",
              "      <th>Diameter</th>\n",
              "      <th>n_diam</th>\n",
              "    </tr>\n",
              "  </thead>\n",
              "  <tbody>\n",
              "    <tr>\n",
              "      <th>0</th>\n",
              "      <td>Esferas_BT474_dia_0_well_1_100X_1_blob_1</td>\n",
              "      <td>324.4440</td>\n",
              "      <td>1129.2718</td>\n",
              "      <td>102.2051</td>\n",
              "      <td>1129.2718</td>\n",
              "      <td>102.2051</td>\n",
              "      <td>67.3603</td>\n",
              "      <td>1118.8859</td>\n",
              "      <td>92.3913</td>\n",
              "      <td>21.0598</td>\n",
              "      <td>...</td>\n",
              "      <td>157</td>\n",
              "      <td>23.4287</td>\n",
              "      <td>19.7011</td>\n",
              "      <td>1.0653</td>\n",
              "      <td>0.9387</td>\n",
              "      <td>0.9500</td>\n",
              "      <td>si</td>\n",
              "      <td>0</td>\n",
              "      <td>20.95640</td>\n",
              "      <td>1.491357</td>\n",
              "    </tr>\n",
              "    <tr>\n",
              "      <th>1</th>\n",
              "      <td>Esferas_BT474_dia_0_well_1_100X_1_blob_2</td>\n",
              "      <td>497.5115</td>\n",
              "      <td>1517.5528</td>\n",
              "      <td>126.1022</td>\n",
              "      <td>1517.5528</td>\n",
              "      <td>126.1022</td>\n",
              "      <td>82.8004</td>\n",
              "      <td>1504.7554</td>\n",
              "      <td>113.4511</td>\n",
              "      <td>25.8152</td>\n",
              "      <td>...</td>\n",
              "      <td>192</td>\n",
              "      <td>16.1443</td>\n",
              "      <td>25.1289</td>\n",
              "      <td>1.0475</td>\n",
              "      <td>0.9546</td>\n",
              "      <td>0.9569</td>\n",
              "      <td>si</td>\n",
              "      <td>0</td>\n",
              "      <td>26.00200</td>\n",
              "      <td>2.848733</td>\n",
              "    </tr>\n",
              "    <tr>\n",
              "      <th>2</th>\n",
              "      <td>Esferas_BT474_dia_0_well_1_100X_1_blob_3</td>\n",
              "      <td>282.9078</td>\n",
              "      <td>1314.2815</td>\n",
              "      <td>126.0988</td>\n",
              "      <td>1314.2815</td>\n",
              "      <td>126.0988</td>\n",
              "      <td>62.1586</td>\n",
              "      <td>1304.3478</td>\n",
              "      <td>116.8478</td>\n",
              "      <td>19.7011</td>\n",
              "      <td>...</td>\n",
              "      <td>189</td>\n",
              "      <td>15.4222</td>\n",
              "      <td>18.3424</td>\n",
              "      <td>1.0395</td>\n",
              "      <td>0.9620</td>\n",
              "      <td>0.9519</td>\n",
              "      <td>si</td>\n",
              "      <td>0</td>\n",
              "      <td>19.38970</td>\n",
              "      <td>1.181258</td>\n",
              "    </tr>\n",
              "    <tr>\n",
              "      <th>3</th>\n",
              "      <td>Esferas_BT474_dia_0_well_1_100X_1_blob_5</td>\n",
              "      <td>500.7421</td>\n",
              "      <td>1189.2841</td>\n",
              "      <td>212.6155</td>\n",
              "      <td>1189.2841</td>\n",
              "      <td>212.6155</td>\n",
              "      <td>84.5571</td>\n",
              "      <td>1175.9511</td>\n",
              "      <td>200.4076</td>\n",
              "      <td>26.4946</td>\n",
              "      <td>...</td>\n",
              "      <td>309</td>\n",
              "      <td>174.1440</td>\n",
              "      <td>25.1359</td>\n",
              "      <td>1.0278</td>\n",
              "      <td>0.9730</td>\n",
              "      <td>0.9493</td>\n",
              "      <td>si</td>\n",
              "      <td>0</td>\n",
              "      <td>25.88475</td>\n",
              "      <td>2.810370</td>\n",
              "    </tr>\n",
              "    <tr>\n",
              "      <th>4</th>\n",
              "      <td>Esferas_BT474_dia_0_well_1_100X_1_blob_6</td>\n",
              "      <td>492.8964</td>\n",
              "      <td>1043.0782</td>\n",
              "      <td>247.7667</td>\n",
              "      <td>1043.0782</td>\n",
              "      <td>247.7667</td>\n",
              "      <td>82.0728</td>\n",
              "      <td>1030.5707</td>\n",
              "      <td>235.7337</td>\n",
              "      <td>25.1359</td>\n",
              "      <td>...</td>\n",
              "      <td>353</td>\n",
              "      <td>143.4270</td>\n",
              "      <td>24.4565</td>\n",
              "      <td>1.0186</td>\n",
              "      <td>0.9817</td>\n",
              "      <td>0.9643</td>\n",
              "      <td>si</td>\n",
              "      <td>0</td>\n",
              "      <td>25.33985</td>\n",
              "      <td>2.636596</td>\n",
              "    </tr>\n",
              "  </tbody>\n",
              "</table>\n",
              "<p>5 rows × 24 columns</p>\n",
              "</div>"
            ],
            "text/plain": [
              "                                     labels      Area          X         Y  \\\n",
              "0  Esferas_BT474_dia_0_well_1_100X_1_blob_1  324.4440  1129.2718  102.2051   \n",
              "1  Esferas_BT474_dia_0_well_1_100X_1_blob_2  497.5115  1517.5528  126.1022   \n",
              "2  Esferas_BT474_dia_0_well_1_100X_1_blob_3  282.9078  1314.2815  126.0988   \n",
              "3  Esferas_BT474_dia_0_well_1_100X_1_blob_5  500.7421  1189.2841  212.6155   \n",
              "4  Esferas_BT474_dia_0_well_1_100X_1_blob_6  492.8964  1043.0782  247.7667   \n",
              "\n",
              "          XM        YM   Perim.         BX        BY    Width  ...  FeretY  \\\n",
              "0  1129.2718  102.2051  67.3603  1118.8859   92.3913  21.0598  ...     157   \n",
              "1  1517.5528  126.1022  82.8004  1504.7554  113.4511  25.8152  ...     192   \n",
              "2  1314.2815  126.0988  62.1586  1304.3478  116.8478  19.7011  ...     189   \n",
              "3  1189.2841  212.6155  84.5571  1175.9511  200.4076  26.4946  ...     309   \n",
              "4  1043.0782  247.7667  82.0728  1030.5707  235.7337  25.1359  ...     353   \n",
              "\n",
              "   FeretAngle  MinFeret      AR   Round  Solidity  Esferoide  dia  Diameter  \\\n",
              "0     23.4287   19.7011  1.0653  0.9387    0.9500         si    0  20.95640   \n",
              "1     16.1443   25.1289  1.0475  0.9546    0.9569         si    0  26.00200   \n",
              "2     15.4222   18.3424  1.0395  0.9620    0.9519         si    0  19.38970   \n",
              "3    174.1440   25.1359  1.0278  0.9730    0.9493         si    0  25.88475   \n",
              "4    143.4270   24.4565  1.0186  0.9817    0.9643         si    0  25.33985   \n",
              "\n",
              "     n_diam  \n",
              "0  1.491357  \n",
              "1  2.848733  \n",
              "2  1.181258  \n",
              "3  2.810370  \n",
              "4  2.636596  \n",
              "\n",
              "[5 rows x 24 columns]"
            ]
          },
          "execution_count": 3,
          "metadata": {},
          "output_type": "execute_result"
        }
      ],
      "source": [
        "url = 'https://raw.githubusercontent.com/luciabarg/datos_tumoresferas/main/data/raw/fiji_datos_0al7mo_labels.csv' \n",
        "fiji_datos = pd.read_csv(url)\n",
        "print('cantidad de datos:', len(fiji_datos))\n",
        "fiji_datos.head()"
      ]
    },
    {
      "attachments": {},
      "cell_type": "markdown",
      "metadata": {
        "id": "PrjaQUO10PeD"
      },
      "source": [
        "#### Descripción de las columnas:\n",
        "\n",
        "   * **labels** (*'nombre_id'*): etiqueta que indica la estructura segmentada seleccionada. \n",
        "   * **Area** (*'area'*): columna que indica el área de selección en $\\mu$m$^2$.\n",
        "   * **Perim.** (*'perimetro'*): Es la longitud  del límite exterior de la selección. \n",
        "   * **Width** (*'ancho'*) y **Height** (*'altura'*): Es el ancho y la altura del rectángulo mas pequeño que encierra la estructura seleccionada.\n",
        "   * **Circ.** (*'circulalidad'*): Indica la *circularidad*. Se calcula como 4π × [Area]/[Perimeter]$^2$, que con un valor de 1.0 indica un círculo perfecto. A medida que se acerca a 0.0, indica una forma cada vez más alargada. \n",
        "   * Columnas del diámetro de Feret: \n",
        "       * **Feret** (*feret*): Indica la distancia más larga entre dos puntos a lo largo del límite de selección. \n",
        "       * **MinFeret** (*min_feret*): Indica la distancia mínima entre dos puntos a lo largo del límite de selección.\n",
        "       * **FeretAngle**: Indica el ángulo del diámetro de Feret.\n",
        "       * **FeretX** y **FeretY**: son las coordenadas iniciales del diámetro de Feret. \n",
        "       * **AR** (*razon_aspecto*): Indica la  razón de aspecto de la elipse ajustada de la estructura seleccionada, es decir, [Eje mayor]/[Eje menor].\n",
        "       * **Round** (*redondez*): Se calcula como  (4 × [Area] )/ (π × [Major axis]^2) o como la inversa de **AR**. Tiene un rango entre 0 y 1, con 1 indicando un círculo perfecto.\n",
        "       * **Solidity**: Se calcula como [Area]/[Convex area]. Se calcula el área convexa como el área de una banda elástica envuelta firmemente alrededor de los puntos que definen la selección.\n",
        "       * **Esferoide** (*esferoide*): etiqueta que indica si la estructura seleccionada califica como esferoide o no\n",
        "       * **dia**: etiqueta que indica el día en el cual fue realizada la fotografía de origen. \n",
        "       * **Diameter** (*diametro*): Se calculó como 0.5*(*Feret*+*MinFeret*)\n",
        "       * **n_diam** (*poblacion_celular*)\n",
        "\n",
        "\n",
        "**Modelo para la estimación de la población celular *n_diam*:**\n",
        "\n",
        "*Se puede hacer una estimación de la cantidad de células en una tumoresfera a partir del volumen $V_1$ de una célula de diámetro $D_1$;*\n",
        "\n",
        "*Si tenemos una célula, entonces $V_1 = \\frac{\\pi}{6} D_1^3$ pero si el esferoide tiene $n$ células, entonces tendremos un volumen $V_n = n V_1$ para un diámetro $D_n$ de manera que $V_n =  \\frac{\\pi}{6} D_n^3$.*\n",
        "\n",
        "*Si conocemos el diámetro $D_1$ de la célula a un tiempo inicial y el diámetro $D_n$ a un tiempo posterior, reemplazando $V_n$ y $V_1$ podemos estimar la población celular $n$ como: $n  = \\frac{V_n}{V_1}= \\frac{D_n^3}{D_0^3}.$*\n",
        "\n",
        "\n",
        "\n"
      ]
    },
    {
      "attachments": {},
      "cell_type": "markdown",
      "metadata": {
        "id": "x_hhtVjAv8Nv"
      },
      "source": [
        "\n",
        "Como utilizamos las imágenes ya segmentadas y recortadas, las columnas *X*, *Y*, *XM*, *YM*, *BX*, *BY*, las coordenadas del diámetro de Feret (*FeretX* y *FeretY*) y el ángulo (*FeretAngle*) **¿suman información al análisis?**\n",
        " \n",
        "\n",
        "Para mas información, pueden explorar la [documentación](https://imagej.nih.gov/ij/docs/guide/146-30.html#sub:Analyze-Particles...).\n",
        "\n",
        "\n",
        "Pueden ver las imágenes crudas y las individuales (cada fila es una estructura) en la siguiente [carpeta compartida](https://drive.google.com/drive/folders/1aws02t4Z0wSrdbHsQ-cgBkwX8PKLU71c?usp=sharing)."
      ]
    },
    {
      "attachments": {},
      "cell_type": "markdown",
      "metadata": {
        "id": "JQnIk1cDwAAL"
      },
      "source": [
        "# Análisis de los datos:\n",
        "\n",
        "*   1) a) Explorar cuántos datos son, ¿cuáles son las columnas? Diferenciar entre categóricas y numéricas.\n",
        "    \n",
        "       b) De acuerdo a la descripción de las columnas, definir cuáles son las más importantes y descartar las columnas que no tienen mucha validez para el problema.\n",
        "\n",
        "*   2) Cambiar el nombre de las columnas en inglés a castellano (están indicadas en paréntesis en la descripción).\n",
        "*   3) Tratemos de responder alguna de las siguientes preguntas:\n",
        "    * a) ¿Se trata de una muestra o población?\n",
        "    * b) ¿Es más probable que sea esferoide a que no lo sea?\n",
        "\n",
        "    * c) ¿La forma (área, circularidad, diámetro, redondez) influye en la clasificación de *Esferoide*? \n",
        "    \n",
        "    * d) ¿Tales variables son independientes entre sí? \n",
        "    * e) ¿La probabilidad de que la redondez ('Round') sea mayor a 0.9 en los clasificados como *Esferoides* = **si** es mayor que los clasificados como *Esferoides* = **no**?. \n",
        "\n",
        "* 4) También se puede explorar la muestra por día:\n",
        "    * a) ¿Cuántos datos hay por día? Hacer gráfico de frecuencias.\n",
        "\n",
        "    * b) Explorar con diagramas de cajas al menos una columna (ej. Diameter, n_diam, pero pueden animarse a más). \n",
        "\n",
        "    * c) Discriminar la(s) columna(s) elegida(s) en *Esferoide* **si** y **no** y ver sus distribuciones. ¿Son distintas?. Describirlas (asimetría, kurtosis, etc..)\n",
        "\n",
        "    * d) ¿Hay outliers? Hacer con el total y luego discriminando por *Esferoide'* **si** y **no**. ¿Qué pueden implicar biológicamente? Si los eliminan, ¿cuál sería la justificación?\n",
        "\n",
        "     Si identifican un par, traten de determinar el *'nombre_id'* y las buscamos en las imágenes en la [carpeta compartida](https://drive.google.com/drive/folders/1aws02t4Z0wSrdbHsQ-cgBkwX8PKLU71c?usp=sharing).\n",
        "\n",
        "    * e) La media de los esferoides=*no* al día 3 es igual que al día 5? Realizar Test de Hipótesis. \n",
        "   \n",
        "    * f) Determinen el intervalo de confianza diario de tal(es) columna(s) para las clasificadas como *'Esferoide'*=**'si'**. Y exploren como utilizarlos como barras de error en el gráfico. \n",
        "  \n",
        "    El intervalo de confianza está dado por $$[LI;LS]$$ donde\n",
        "\n",
        "    $$ LI = \\overline{x}-t_{n-1,1-\\alpha/2}\\frac{s}{\\sqrt n}$$\n",
        "    $$ LS = \\overline{x}+t_{n-1,1-\\alpha/2}\\frac{s}{\\sqrt n}$$\n",
        "\n",
        "   siendo $s$ la desviación de la distribución y $n$ el tamaño de la muestra.\n",
        "   Pueden calcular el t-valor en la siguiente [página](https://goodcalculators.com/student-t-value-calculator/) y explorar la librería [scipy.stats.t](https://docs.scipy.org/doc/scipy/reference/generated/scipy.stats.t.html) .\n",
        "\n",
        "\n",
        "\n",
        "Interpretar lo que ven en los gráficos en términos generales. ¿Qué creen que sucedió a partir del día 6? \n",
        "\n",
        "\n",
        "* 5) ¿Qué otras preguntas se pueden o quisieran plantear? (las que puedan y quieran, las responden, sino planteenlas nomás y las charlamos, quizás se las puede responder con otras herramientas o simplemente son interesantes para tenerlas en cuenta y sería lindo tener otra clase de datos para responderlas.) \n",
        "\n",
        "\n",
        "Recordar que es importante como se comunican las respuestas, usar lo que van prendiendo a partir de cada punto y también guitarra ;).\n",
        "\n",
        "Diseñar e implementar una comunicación a partir de algún ejercicio/s del entregable que les haya llamado la atención y que les parezca relevante en un archivo PDF o ppt."
      ]
    }
  ],
  "metadata": {
    "colab": {
      "include_colab_link": true,
      "provenance": []
    },
    "kernelspec": {
      "display_name": "Python 3 (ipykernel)",
      "language": "python",
      "name": "python3"
    },
    "language_info": {
      "codemirror_mode": {
        "name": "ipython",
        "version": 3
      },
      "file_extension": ".py",
      "mimetype": "text/x-python",
      "name": "python",
      "nbconvert_exporter": "python",
      "pygments_lexer": "ipython3",
      "version": "3.8.10"
    }
  },
  "nbformat": 4,
  "nbformat_minor": 0
}
