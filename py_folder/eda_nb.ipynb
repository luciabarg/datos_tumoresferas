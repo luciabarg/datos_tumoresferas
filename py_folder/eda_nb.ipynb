{
 "cells": [
  {
   "attachments": {},
   "cell_type": "markdown",
   "metadata": {},
   "source": [
    "### Análisis exploratorio\n",
    "Usando funciones definidas dentro de una clase\n"
   ]
  },
  {
   "cell_type": "code",
   "execution_count": 1,
   "metadata": {},
   "outputs": [],
   "source": [
    "# Imported libraries\n",
    "import os\n",
    "import warnings\n",
    "warnings.filterwarnings('ignore')\n",
    "from utils import logger_class, read_dataset, eda_utils\n",
    "import pandas as pd\n",
    "import numpy as np\n"
   ]
  },
  {
   "cell_type": "code",
   "execution_count": 2,
   "metadata": {},
   "outputs": [
    {
     "name": "stdout",
     "output_type": "stream",
     "text": [
      "local_dir /home/rodripc/datos_tumoresferas/py_folder\n",
      "data_dir /home/rodripc/datos_tumoresferas/py_folder/data\n"
     ]
    }
   ],
   "source": [
    "# Defining local file paths.\n",
    "current_folder = globals()['_dh'][0]\n",
    "\n",
    "# local_dir: Local directory where the data is stored.\n",
    "# local_dir = os.path.abspath(__file__)\n",
    "local_dir = os.path.abspath(current_folder)\n",
    "\n",
    "# data_dir = os.path.abspath(os.path.join(__file__, \"../\", 'data/'))\n",
    "data_dir = os.path.abspath(os.path.join(current_folder, 'data/'))\n",
    "print('local_dir', local_dir)\n",
    "print('data_dir', data_dir)\n",
    "\n",
    "# l_extra is an additional parameter used to indicate the currently running file\n",
    "l_extra = {'name_class': 'Main'}\n"
   ]
  },
  {
   "cell_type": "code",
   "execution_count": 3,
   "metadata": {},
   "outputs": [
    {
     "name": "stderr",
     "output_type": "stream",
     "text": [
      "2023-07-01 00:23:43,431 - Main - Running Main experiment file\n"
     ]
    }
   ],
   "source": [
    "# In this class, we define a logger that prints and saves a log file to help visualize the process\n",
    "log_class = logger_class.getLogger(local_dir, data_dir)\n",
    "logger = log_class.log_info()\n",
    "logger.info('Running Main experiment file', extra=l_extra)"
   ]
  },
  {
   "cell_type": "code",
   "execution_count": 4,
   "metadata": {},
   "outputs": [
    {
     "name": "stderr",
     "output_type": "stream",
     "text": [
      "2023-04-18 16:45:59,524 - load_class - Loading dataset...\n",
      "2023-04-18 16:46:12,841 - Main - lengths:(90000, 90000, 10000, 10000)\n",
      "2023-04-18 16:46:12,843 - load_class - Flattening the dataset and converting it into dataframes...\n",
      "2023-04-18 16:46:24,300 - load_class - The dataset has been converted into dataframes.\n",
      "2023-04-18 16:46:24,302 - Main - shapes:((90000, 56), (90000, 1), (10000, 55), (10000, 1))\n"
     ]
    }
   ],
   "source": [
    "# This class loads the dataset provided and presents it in a dataframe format for familiar exploration and manipulation\n",
    "build_class = read_dataset.DatasetRead(data_dir, logger)\n",
    "X_train, y_train, X_test, y_test = build_class.build_dataset()\n",
    "logger.info(f'lengths:{len(X_train), len(y_train), len(X_test), len(y_test)}', extra=l_extra)\n",
    "\n",
    "X_train_df, y_train_df, X_test_df, y_test_df = build_class.dataframes_flatened(X_train, y_train, X_test, y_test)\n",
    "logger.info(f'shapes:{X_train_df.shape, y_train_df.shape, X_test_df.shape, y_test_df.shape}', extra=l_extra)"
   ]
  },
  {
   "attachments": {},
   "cell_type": "markdown",
   "metadata": {},
   "source": [
    "### Preprocessing dataset"
   ]
  },
  {
   "attachments": {},
   "cell_type": "markdown",
   "metadata": {},
   "source": [
    "First, I will check if the dataset has been read correctly and evaluate whether the labels are balanced or not.\n",
    "\n",
    "Take into account that the dataset has been converted into dataframe format for familiar exploration and manipulation.\n"
   ]
  },
  {
   "cell_type": "code",
   "execution_count": 5,
   "metadata": {},
   "outputs": [],
   "source": [
    "# This class provides useful functions for exploring and manipulating the loaded dataframes\n",
    "eda_class = eda_utils.DataManipulation(data_dir, X_train_df, y_train_df, X_test_df, y_test_df, logger)\n",
    "#eda_class = eda_utils.DataManipulation(data_dir, X_train_df, X_test_df, logger)"
   ]
  },
  {
   "cell_type": "code",
   "execution_count": 6,
   "metadata": {},
   "outputs": [
    {
     "name": "stdout",
     "output_type": "stream",
     "text": [
      "(90000, 56) (90000, 1) (10000, 55) (10000, 1)\n"
     ]
    }
   ],
   "source": [
    "# Let's check the shape of the resulting dataframes:\n",
    "print(X_train_df.shape, y_train_df.shape, X_test_df.shape, y_test_df.shape)"
   ]
  },
  {
   "cell_type": "code",
   "execution_count": 7,
   "metadata": {},
   "outputs": [
    {
     "data": {
      "text/html": [
       "<div>\n",
       "<style scoped>\n",
       "    .dataframe tbody tr th:only-of-type {\n",
       "        vertical-align: middle;\n",
       "    }\n",
       "\n",
       "    .dataframe tbody tr th {\n",
       "        vertical-align: top;\n",
       "    }\n",
       "\n",
       "    .dataframe thead th {\n",
       "        text-align: right;\n",
       "    }\n",
       "</style>\n",
       "<table border=\"1\" class=\"dataframe\">\n",
       "  <thead>\n",
       "    <tr style=\"text-align: right;\">\n",
       "      <th></th>\n",
       "      <th>condition</th>\n",
       "    </tr>\n",
       "  </thead>\n",
       "  <tbody>\n",
       "    <tr>\n",
       "      <th>4182</th>\n",
       "      <td>used</td>\n",
       "    </tr>\n",
       "    <tr>\n",
       "      <th>87872</th>\n",
       "      <td>new</td>\n",
       "    </tr>\n",
       "    <tr>\n",
       "      <th>33040</th>\n",
       "      <td>used</td>\n",
       "    </tr>\n",
       "  </tbody>\n",
       "</table>\n",
       "</div>"
      ],
      "text/plain": [
       "      condition\n",
       "4182       used\n",
       "87872       new\n",
       "33040      used"
      ]
     },
     "execution_count": 7,
     "metadata": {},
     "output_type": "execute_result"
    }
   ],
   "source": [
    "# Let's take a look at a sample of the resulting y_train_df dataframe:\n",
    "y_train_df.sample(3)"
   ]
  },
  {
   "attachments": {},
   "cell_type": "markdown",
   "metadata": {},
   "source": [
    "Let's explore if the labels are balanced or not:"
   ]
  },
  {
   "cell_type": "code",
   "execution_count": 8,
   "metadata": {},
   "outputs": [
    {
     "data": {
      "text/html": [
       "<div>\n",
       "<style scoped>\n",
       "    .dataframe tbody tr th:only-of-type {\n",
       "        vertical-align: middle;\n",
       "    }\n",
       "\n",
       "    .dataframe tbody tr th {\n",
       "        vertical-align: top;\n",
       "    }\n",
       "\n",
       "    .dataframe thead th {\n",
       "        text-align: right;\n",
       "    }\n",
       "</style>\n",
       "<table border=\"1\" class=\"dataframe\">\n",
       "  <thead>\n",
       "    <tr style=\"text-align: right;\">\n",
       "      <th></th>\n",
       "      <th>condition</th>\n",
       "      <th>count</th>\n",
       "      <th>percentage</th>\n",
       "    </tr>\n",
       "  </thead>\n",
       "  <tbody>\n",
       "    <tr>\n",
       "      <th>0</th>\n",
       "      <td>new</td>\n",
       "      <td>48352</td>\n",
       "      <td>53.72%</td>\n",
       "    </tr>\n",
       "    <tr>\n",
       "      <th>1</th>\n",
       "      <td>used</td>\n",
       "      <td>41648</td>\n",
       "      <td>46.28%</td>\n",
       "    </tr>\n",
       "  </tbody>\n",
       "</table>\n",
       "</div>"
      ],
      "text/plain": [
       "  condition  count percentage\n",
       "0       new  48352     53.72%\n",
       "1      used  41648     46.28%"
      ]
     },
     "execution_count": 8,
     "metadata": {},
     "output_type": "execute_result"
    }
   ],
   "source": [
    "col_ch = 'condition'\n",
    "df_ch = y_train_df.copy()\n",
    "eda_class.count_percentage_df(df_ch, column = col_ch)"
   ]
  },
  {
   "cell_type": "code",
   "execution_count": 9,
   "metadata": {},
   "outputs": [
    {
     "data": {
      "text/html": [
       "<div>\n",
       "<style scoped>\n",
       "    .dataframe tbody tr th:only-of-type {\n",
       "        vertical-align: middle;\n",
       "    }\n",
       "\n",
       "    .dataframe tbody tr th {\n",
       "        vertical-align: top;\n",
       "    }\n",
       "\n",
       "    .dataframe thead th {\n",
       "        text-align: right;\n",
       "    }\n",
       "</style>\n",
       "<table border=\"1\" class=\"dataframe\">\n",
       "  <thead>\n",
       "    <tr style=\"text-align: right;\">\n",
       "      <th></th>\n",
       "      <th>count_nulls</th>\n",
       "      <th>percentage</th>\n",
       "    </tr>\n",
       "  </thead>\n",
       "  <tbody>\n",
       "  </tbody>\n",
       "</table>\n",
       "</div>"
      ],
      "text/plain": [
       "Empty DataFrame\n",
       "Columns: [count_nulls, percentage]\n",
       "Index: []"
      ]
     },
     "execution_count": 9,
     "metadata": {},
     "output_type": "execute_result"
    }
   ],
   "source": [
    "# Let's check nulls in columns and count them\n",
    "df_nulls = eda_class.df_nulls_func(y_train_df)\n",
    "df_nulls"
   ]
  },
  {
   "cell_type": "code",
   "execution_count": 10,
   "metadata": {},
   "outputs": [
    {
     "data": {
      "text/html": [
       "<div>\n",
       "<style scoped>\n",
       "    .dataframe tbody tr th:only-of-type {\n",
       "        vertical-align: middle;\n",
       "    }\n",
       "\n",
       "    .dataframe tbody tr th {\n",
       "        vertical-align: top;\n",
       "    }\n",
       "\n",
       "    .dataframe thead th {\n",
       "        text-align: right;\n",
       "    }\n",
       "</style>\n",
       "<table border=\"1\" class=\"dataframe\">\n",
       "  <thead>\n",
       "    <tr style=\"text-align: right;\">\n",
       "      <th></th>\n",
       "      <th>condition</th>\n",
       "      <th>count</th>\n",
       "      <th>percentage</th>\n",
       "    </tr>\n",
       "  </thead>\n",
       "  <tbody>\n",
       "    <tr>\n",
       "      <th>0</th>\n",
       "      <td>new</td>\n",
       "      <td>5406</td>\n",
       "      <td>54.06%</td>\n",
       "    </tr>\n",
       "    <tr>\n",
       "      <th>1</th>\n",
       "      <td>used</td>\n",
       "      <td>4594</td>\n",
       "      <td>45.94%</td>\n",
       "    </tr>\n",
       "  </tbody>\n",
       "</table>\n",
       "</div>"
      ],
      "text/plain": [
       "  condition  count percentage\n",
       "0       new   5406     54.06%\n",
       "1      used   4594     45.94%"
      ]
     },
     "execution_count": 10,
     "metadata": {},
     "output_type": "execute_result"
    }
   ],
   "source": [
    "col_ch = 'condition'\n",
    "df_ch = y_test_df.copy()\n",
    "eda_class.count_percentage_df(df_ch, column = col_ch)"
   ]
  },
  {
   "attachments": {},
   "cell_type": "markdown",
   "metadata": {},
   "source": [
    "The proportion of labels for \"new\" and \"used\" is balanced."
   ]
  },
  {
   "cell_type": "code",
   "execution_count": 154,
   "metadata": {},
   "outputs": [
    {
     "data": {
      "text/html": [
       "<div>\n",
       "<style scoped>\n",
       "    .dataframe tbody tr th:only-of-type {\n",
       "        vertical-align: middle;\n",
       "    }\n",
       "\n",
       "    .dataframe tbody tr th {\n",
       "        vertical-align: top;\n",
       "    }\n",
       "\n",
       "    .dataframe thead th {\n",
       "        text-align: right;\n",
       "    }\n",
       "</style>\n",
       "<table border=\"1\" class=\"dataframe\">\n",
       "  <thead>\n",
       "    <tr style=\"text-align: right;\">\n",
       "      <th></th>\n",
       "      <th>start_time</th>\n",
       "      <th>stop_time</th>\n",
       "      <th>date_created</th>\n",
       "      <th>last_updated</th>\n",
       "      <th>start_time_date_cat</th>\n",
       "      <th>stop_time_date_cat</th>\n",
       "      <th>date_created_date_cat</th>\n",
       "      <th>last_updated_date_cat</th>\n",
       "      <th>diff_stop_start_time_date_cat</th>\n",
       "      <th>diff_stop_last_updated_date_cat</th>\n",
       "    </tr>\n",
       "  </thead>\n",
       "  <tbody>\n",
       "    <tr>\n",
       "      <th>75608</th>\n",
       "      <td>1443815213000</td>\n",
       "      <td>1448999213000</td>\n",
       "      <td>2015-10-02T19:46:53.000Z</td>\n",
       "      <td>2015-10-02T19:46:54.000Z</td>\n",
       "      <td>2015-10-02</td>\n",
       "      <td>2015-12-01</td>\n",
       "      <td>2015-10-02</td>\n",
       "      <td>2015-10-02</td>\n",
       "      <td>60</td>\n",
       "      <td>60</td>\n",
       "    </tr>\n",
       "    <tr>\n",
       "      <th>83</th>\n",
       "      <td>1440156174000</td>\n",
       "      <td>1445340174000</td>\n",
       "      <td>2015-08-21T11:22:54.000Z</td>\n",
       "      <td>2015-08-21T11:35:03.000Z</td>\n",
       "      <td>2015-08-21</td>\n",
       "      <td>2015-10-20</td>\n",
       "      <td>2015-08-21</td>\n",
       "      <td>2015-08-21</td>\n",
       "      <td>60</td>\n",
       "      <td>60</td>\n",
       "    </tr>\n",
       "    <tr>\n",
       "      <th>19261</th>\n",
       "      <td>1441715839000</td>\n",
       "      <td>1446899839000</td>\n",
       "      <td>2015-09-08T12:37:19.000Z</td>\n",
       "      <td>2015-09-08T12:37:21.000Z</td>\n",
       "      <td>2015-09-08</td>\n",
       "      <td>2015-11-07</td>\n",
       "      <td>2015-09-08</td>\n",
       "      <td>2015-09-08</td>\n",
       "      <td>60</td>\n",
       "      <td>60</td>\n",
       "    </tr>\n",
       "    <tr>\n",
       "      <th>3279</th>\n",
       "      <td>1444253536000</td>\n",
       "      <td>1449437536000</td>\n",
       "      <td>2015-10-07T21:32:16.000Z</td>\n",
       "      <td>2015-10-07T21:32:17.000Z</td>\n",
       "      <td>2015-10-07</td>\n",
       "      <td>2015-12-06</td>\n",
       "      <td>2015-10-07</td>\n",
       "      <td>2015-10-07</td>\n",
       "      <td>60</td>\n",
       "      <td>60</td>\n",
       "    </tr>\n",
       "    <tr>\n",
       "      <th>36986</th>\n",
       "      <td>1440858536000</td>\n",
       "      <td>1446042536000</td>\n",
       "      <td>2015-08-29T14:28:56.000Z</td>\n",
       "      <td>2015-08-29T14:28:57.000Z</td>\n",
       "      <td>2015-08-29</td>\n",
       "      <td>2015-10-28</td>\n",
       "      <td>2015-08-29</td>\n",
       "      <td>2015-08-29</td>\n",
       "      <td>60</td>\n",
       "      <td>60</td>\n",
       "    </tr>\n",
       "    <tr>\n",
       "      <th>...</th>\n",
       "      <td>...</td>\n",
       "      <td>...</td>\n",
       "      <td>...</td>\n",
       "      <td>...</td>\n",
       "      <td>...</td>\n",
       "      <td>...</td>\n",
       "      <td>...</td>\n",
       "      <td>...</td>\n",
       "      <td>...</td>\n",
       "      <td>...</td>\n",
       "    </tr>\n",
       "    <tr>\n",
       "      <th>79506</th>\n",
       "      <td>1442594360000</td>\n",
       "      <td>1447778360000</td>\n",
       "      <td>2015-09-18T16:39:21.000Z</td>\n",
       "      <td>2015-09-18T16:39:22.000Z</td>\n",
       "      <td>2015-09-18</td>\n",
       "      <td>2015-11-17</td>\n",
       "      <td>2015-09-18</td>\n",
       "      <td>2015-09-18</td>\n",
       "      <td>60</td>\n",
       "      <td>60</td>\n",
       "    </tr>\n",
       "    <tr>\n",
       "      <th>47537</th>\n",
       "      <td>1440480287000</td>\n",
       "      <td>1445664287000</td>\n",
       "      <td>2015-08-25T05:24:47.000Z</td>\n",
       "      <td>2015-08-25T05:24:48.000Z</td>\n",
       "      <td>2015-08-25</td>\n",
       "      <td>2015-10-24</td>\n",
       "      <td>2015-08-25</td>\n",
       "      <td>2015-08-25</td>\n",
       "      <td>60</td>\n",
       "      <td>60</td>\n",
       "    </tr>\n",
       "    <tr>\n",
       "      <th>19099</th>\n",
       "      <td>1441294981000</td>\n",
       "      <td>1446478981000</td>\n",
       "      <td>2015-09-03T15:43:02.000Z</td>\n",
       "      <td>2015-09-03T15:44:51.000Z</td>\n",
       "      <td>2015-09-03</td>\n",
       "      <td>2015-11-02</td>\n",
       "      <td>2015-09-03</td>\n",
       "      <td>2015-09-03</td>\n",
       "      <td>60</td>\n",
       "      <td>60</td>\n",
       "    </tr>\n",
       "    <tr>\n",
       "      <th>31388</th>\n",
       "      <td>1443120504000</td>\n",
       "      <td>1448304504000</td>\n",
       "      <td>2015-09-24T18:48:24.000Z</td>\n",
       "      <td>2015-09-24T18:48:25.000Z</td>\n",
       "      <td>2015-09-24</td>\n",
       "      <td>2015-11-23</td>\n",
       "      <td>2015-09-24</td>\n",
       "      <td>2015-09-24</td>\n",
       "      <td>60</td>\n",
       "      <td>60</td>\n",
       "    </tr>\n",
       "    <tr>\n",
       "      <th>4630</th>\n",
       "      <td>1440347886000</td>\n",
       "      <td>1445531886000</td>\n",
       "      <td>2015-08-23T16:38:06.000Z</td>\n",
       "      <td>2015-08-23T16:39:14.000Z</td>\n",
       "      <td>2015-08-23</td>\n",
       "      <td>2015-10-22</td>\n",
       "      <td>2015-08-23</td>\n",
       "      <td>2015-08-23</td>\n",
       "      <td>60</td>\n",
       "      <td>60</td>\n",
       "    </tr>\n",
       "  </tbody>\n",
       "</table>\n",
       "<p>1000 rows × 10 columns</p>\n",
       "</div>"
      ],
      "text/plain": [
       "          start_time      stop_time              date_created   \n",
       "75608  1443815213000  1448999213000  2015-10-02T19:46:53.000Z  \\\n",
       "83     1440156174000  1445340174000  2015-08-21T11:22:54.000Z   \n",
       "19261  1441715839000  1446899839000  2015-09-08T12:37:19.000Z   \n",
       "3279   1444253536000  1449437536000  2015-10-07T21:32:16.000Z   \n",
       "36986  1440858536000  1446042536000  2015-08-29T14:28:56.000Z   \n",
       "...              ...            ...                       ...   \n",
       "79506  1442594360000  1447778360000  2015-09-18T16:39:21.000Z   \n",
       "47537  1440480287000  1445664287000  2015-08-25T05:24:47.000Z   \n",
       "19099  1441294981000  1446478981000  2015-09-03T15:43:02.000Z   \n",
       "31388  1443120504000  1448304504000  2015-09-24T18:48:24.000Z   \n",
       "4630   1440347886000  1445531886000  2015-08-23T16:38:06.000Z   \n",
       "\n",
       "                   last_updated start_time_date_cat stop_time_date_cat   \n",
       "75608  2015-10-02T19:46:54.000Z          2015-10-02         2015-12-01  \\\n",
       "83     2015-08-21T11:35:03.000Z          2015-08-21         2015-10-20   \n",
       "19261  2015-09-08T12:37:21.000Z          2015-09-08         2015-11-07   \n",
       "3279   2015-10-07T21:32:17.000Z          2015-10-07         2015-12-06   \n",
       "36986  2015-08-29T14:28:57.000Z          2015-08-29         2015-10-28   \n",
       "...                         ...                 ...                ...   \n",
       "79506  2015-09-18T16:39:22.000Z          2015-09-18         2015-11-17   \n",
       "47537  2015-08-25T05:24:48.000Z          2015-08-25         2015-10-24   \n",
       "19099  2015-09-03T15:44:51.000Z          2015-09-03         2015-11-02   \n",
       "31388  2015-09-24T18:48:25.000Z          2015-09-24         2015-11-23   \n",
       "4630   2015-08-23T16:39:14.000Z          2015-08-23         2015-10-22   \n",
       "\n",
       "      date_created_date_cat last_updated_date_cat   \n",
       "75608            2015-10-02            2015-10-02  \\\n",
       "83               2015-08-21            2015-08-21   \n",
       "19261            2015-09-08            2015-09-08   \n",
       "3279             2015-10-07            2015-10-07   \n",
       "36986            2015-08-29            2015-08-29   \n",
       "...                     ...                   ...   \n",
       "79506            2015-09-18            2015-09-18   \n",
       "47537            2015-08-25            2015-08-25   \n",
       "19099            2015-09-03            2015-09-03   \n",
       "31388            2015-09-24            2015-09-24   \n",
       "4630             2015-08-23            2015-08-23   \n",
       "\n",
       "       diff_stop_start_time_date_cat  diff_stop_last_updated_date_cat  \n",
       "75608                             60                               60  \n",
       "83                                60                               60  \n",
       "19261                             60                               60  \n",
       "3279                              60                               60  \n",
       "36986                             60                               60  \n",
       "...                              ...                              ...  \n",
       "79506                             60                               60  \n",
       "47537                             60                               60  \n",
       "19099                             60                               60  \n",
       "31388                             60                               60  \n",
       "4630                              60                               60  \n",
       "\n",
       "[1000 rows x 10 columns]"
      ]
     },
     "execution_count": 154,
     "metadata": {},
     "output_type": "execute_result"
    }
   ],
   "source": [
    "df_dt = eda_class.create_date_cols_df(dt_sample)\n",
    "df_dt"
   ]
  },
  {
   "cell_type": "code",
   "execution_count": 155,
   "metadata": {},
   "outputs": [
    {
     "data": {
      "text/html": [
       "<div>\n",
       "<style scoped>\n",
       "    .dataframe tbody tr th:only-of-type {\n",
       "        vertical-align: middle;\n",
       "    }\n",
       "\n",
       "    .dataframe tbody tr th {\n",
       "        vertical-align: top;\n",
       "    }\n",
       "\n",
       "    .dataframe thead th {\n",
       "        text-align: right;\n",
       "    }\n",
       "</style>\n",
       "<table border=\"1\" class=\"dataframe\">\n",
       "  <thead>\n",
       "    <tr style=\"text-align: right;\">\n",
       "      <th></th>\n",
       "      <th>count</th>\n",
       "      <th>mean</th>\n",
       "      <th>std</th>\n",
       "      <th>min</th>\n",
       "      <th>25%</th>\n",
       "      <th>50%</th>\n",
       "      <th>75%</th>\n",
       "      <th>90%</th>\n",
       "      <th>95%</th>\n",
       "      <th>max</th>\n",
       "    </tr>\n",
       "  </thead>\n",
       "  <tbody>\n",
       "    <tr>\n",
       "      <th>diff_stop_start_time_date_cat</th>\n",
       "      <td>1000.0</td>\n",
       "      <td>60.358</td>\n",
       "      <td>10.6744</td>\n",
       "      <td>5.0</td>\n",
       "      <td>60.0</td>\n",
       "      <td>60.0</td>\n",
       "      <td>60.0</td>\n",
       "      <td>60.0</td>\n",
       "      <td>60.0</td>\n",
       "      <td>299.0</td>\n",
       "    </tr>\n",
       "  </tbody>\n",
       "</table>\n",
       "</div>"
      ],
      "text/plain": [
       "                                count    mean      std  min   25%   50%   75%   \n",
       "diff_stop_start_time_date_cat  1000.0  60.358  10.6744  5.0  60.0  60.0  60.0  \\\n",
       "\n",
       "                                90%   95%    max  \n",
       "diff_stop_start_time_date_cat  60.0  60.0  299.0  "
      ]
     },
     "execution_count": 155,
     "metadata": {},
     "output_type": "execute_result"
    }
   ],
   "source": [
    "diff_stop_start_time_sample = df_dt['diff_stop_start_time_date_cat'].sample(1000).copy()\n",
    "np.round(pd.DataFrame(diff_stop_start_time_sample.describe(percentiles=[.25, .50, .75, .90, .95])).T,4)"
   ]
  },
  {
   "cell_type": "code",
   "execution_count": 158,
   "metadata": {},
   "outputs": [
    {
     "ename": "SyntaxError",
     "evalue": "invalid syntax (2220111482.py, line 1)",
     "output_type": "error",
     "traceback": [
      "\u001b[0;36m  Cell \u001b[0;32mIn[158], line 1\u001b[0;36m\u001b[0m\n\u001b[0;31m    The majority of announcements, even when the sample is altered, have a duration of 60 days, which is equivalent to 2 months.\u001b[0m\n\u001b[0m        ^\u001b[0m\n\u001b[0;31mSyntaxError\u001b[0m\u001b[0;31m:\u001b[0m invalid syntax\n"
     ]
    }
   ],
   "source": [
    "The majority of announcements, even when the sample is altered, have a duration of 60 days, which is equivalent to 2 months. \n",
    "Sadly,  it appears that the columns labeled as 'date_created_date_cat' and 'last_updated_date_cat' are not providing any meaningful information and they wont be calculated for the datasets or given to the model and the data columns will be dropped"
   ]
  },
  {
   "cell_type": "code",
   "execution_count": 157,
   "metadata": {},
   "outputs": [
    {
     "data": {
      "image/png": "[encoded data removed]",
      "text/plain": [
       "<Figure size 640x480 with 1 Axes>"
      ]
     },
     "metadata": {},
     "output_type": "display_data"
    }
   ],
   "source": [
    "sns.histplot(diff_stop_start_time_sample, bins = 50)\n",
    "sns.despine()"
   ]
  },
  {
   "cell_type": "code",
   "execution_count": 156,
   "metadata": {},
   "outputs": [],
   "source": [
    "col_ch = 'diff_stop_start_time_sample'\n",
    "train_df = pd.DataFrame(diff_stop_start_time_sample.copy())\n",
    "train_df.columns = [col_ch]\n",
    "test_df = pd.DataFrame(diff_stop_start_time_sample.copy())\n",
    "test_df.columns = [col_ch]"
   ]
  },
  {
   "cell_type": "code",
   "execution_count": 147,
   "metadata": {},
   "outputs": [
    {
     "name": "stderr",
     "output_type": "stream",
     "text": [
      "2023-04-18 17:29:21,819 - Main - Creating categorical columns based on the 'sold_quantity' column. \n"
     ]
    },
    {
     "data": {
      "text/html": [
       "<div>\n",
       "<style scoped>\n",
       "    .dataframe tbody tr th:only-of-type {\n",
       "        vertical-align: middle;\n",
       "    }\n",
       "\n",
       "    .dataframe tbody tr th {\n",
       "        vertical-align: top;\n",
       "    }\n",
       "\n",
       "    .dataframe thead th {\n",
       "        text-align: right;\n",
       "    }\n",
       "</style>\n",
       "<table border=\"1\" class=\"dataframe\">\n",
       "  <thead>\n",
       "    <tr style=\"text-align: right;\">\n",
       "      <th></th>\n",
       "      <th>diff_stop_start_time_sample</th>\n",
       "      <th>diff_stop_start_time_sample_cat</th>\n",
       "    </tr>\n",
       "  </thead>\n",
       "  <tbody>\n",
       "    <tr>\n",
       "      <th>40359</th>\n",
       "      <td>60</td>\n",
       "      <td>0</td>\n",
       "    </tr>\n",
       "    <tr>\n",
       "      <th>29457</th>\n",
       "      <td>60</td>\n",
       "      <td>0</td>\n",
       "    </tr>\n",
       "    <tr>\n",
       "      <th>49043</th>\n",
       "      <td>60</td>\n",
       "      <td>0</td>\n",
       "    </tr>\n",
       "    <tr>\n",
       "      <th>76297</th>\n",
       "      <td>60</td>\n",
       "      <td>0</td>\n",
       "    </tr>\n",
       "    <tr>\n",
       "      <th>43070</th>\n",
       "      <td>60</td>\n",
       "      <td>0</td>\n",
       "    </tr>\n",
       "  </tbody>\n",
       "</table>\n",
       "</div>"
      ],
      "text/plain": [
       "       diff_stop_start_time_sample  diff_stop_start_time_sample_cat\n",
       "40359                           60                                0\n",
       "29457                           60                                0\n",
       "49043                           60                                0\n",
       "76297                           60                                0\n",
       "43070                           60                                0"
      ]
     },
     "execution_count": 147,
     "metadata": {},
     "output_type": "execute_result"
    }
   ],
   "source": [
    "logger.info('Creating categorical columns based on the \\'sold_quantity\\' column. ', extra=l_extra)\n",
    "train_df, test_df = eda_class.create_qcuts_num_column(train_df, test_df, 'diff_stop_start_time_sample')\n",
    "train_df.head()"
   ]
  },
  {
   "cell_type": "code",
   "execution_count": 148,
   "metadata": {},
   "outputs": [
    {
     "name": "stderr",
     "output_type": "stream",
     "text": [
      "2023-04-18 17:29:42,461 - eda_class - len and list of columns created: len = 2,  list: ['is_diff_stop_start_time_sample_cat_0', 'is_diff_stop_start_time_sample_cat_1'] \n",
      "2023-04-18 17:29:42,478 - eda_class - len and list of columns created: len = 2,  list: ['is_diff_stop_start_time_sample_cat_0', 'is_diff_stop_start_time_sample_cat_1'] \n"
     ]
    },
    {
     "name": "stdout",
     "output_type": "stream",
     "text": [
      "info Index([0, 1], dtype='int64')\n"
     ]
    }
   ],
   "source": [
    "train_df, test_df = eda_class.create_category_columns_qcut_cat(train_df, test_df, col_ch = 'diff_stop_start_time_sample_cat', qcut = 10)"
   ]
  },
  {
   "cell_type": "code",
   "execution_count": 151,
   "metadata": {},
   "outputs": [
    {
     "data": {
      "text/plain": [
       "diff_stop_start_time_sample_cat\n",
       "0    986\n",
       "1     14\n",
       "Name: count, dtype: int64"
      ]
     },
     "execution_count": 151,
     "metadata": {},
     "output_type": "execute_result"
    }
   ],
   "source": [
    "train_df['diff_stop_start_time_sample_cat'].value_counts()"
   ]
  }
 ],
 "metadata": {
  "kernelspec": {
   "display_name": "Python 3",
   "language": "python",
   "name": "python3"
  },
  "language_info": {
   "codemirror_mode": {
    "name": "ipython",
    "version": 3
   },
   "file_extension": ".py",
   "mimetype": "text/x-python",
   "name": "python",
   "nbconvert_exporter": "python",
   "pygments_lexer": "ipython3",
   "version": "3.8.10"
  },
  "orig_nbformat": 4
 },
 "nbformat": 4,
 "nbformat_minor": 2
}
