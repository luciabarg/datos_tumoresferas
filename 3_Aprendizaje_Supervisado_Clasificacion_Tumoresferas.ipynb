{
  "cells": [
    {
      "cell_type": "markdown",
      "metadata": {
        "id": "view-in-github",
        "colab_type": "text"
      },
      "source": [
        "<a href=\"https://colab.research.google.com/github/luciabarg/datos_tumoresferas/blob/main/3_Aprendizaje_Supervisado_Clasificacion_Tumoresferas.ipynb\" target=\"_parent\"><img src=\"https://colab.research.google.com/assets/colab-badge.svg\" alt=\"Open In Colab\"/></a>"
      ]
    },
    {
      "cell_type": "markdown",
      "metadata": {
        "id": "-S_T19aNnGhb"
      },
      "source": [
        "\n",
        "<center>\n",
        "<h4>Universidad Nacional de Córdoba - Facultad de Matemática, Astronomía, Física y Computación</h4>\n",
        "<h3>Diplomatura en Ciencia de Datos, Aprendizaje Automático y sus Aplicaciones</h3>\n",
        " <h2>Mentoría: Clasificación de Tumoresferas </h2>\n",
        "</center>\n",
        "\n"
      ]
    },
    {
      "cell_type": "markdown",
      "metadata": {
        "id": "OCZIyaVatb3o"
      },
      "source": [
        "<a name=\"exploratory_data_analysis\"></a>\n",
        "#### **Práctico de Aprendizaje_Supervisado**\n",
        "\n"
      ]
    },
    {
      "cell_type": "markdown",
      "metadata": {
        "id": "cIXIZi43XKcC"
      },
      "source": [
        "Importamos las librerías necesarias:"
      ]
    },
    {
      "cell_type": "code",
      "execution_count": null,
      "metadata": {
        "id": "kdtKG4W2XL1d"
      },
      "outputs": [],
      "source": [
        "import numpy as np\n",
        "import pandas as pd\n",
        "import matplotlib.pyplot as plt\n",
        "import seaborn as sns\n",
        "\n",
        "sns.set_context('talk')\n",
        "\n",
        "import warnings\n",
        "warnings.filterwarnings(\"ignore\")\n"
      ]
    },
    {
      "cell_type": "markdown",
      "source": [
        "En este práctico, utilizaremos el archivo original *fiji_datos_0al7mo_labels.csv* que se encuentra en la carpeta *data/raw/*.\n",
        "\n",
        "Además sumaremos los siguientes datos sintéticos que se encuentran en la carpeta *data/datos_sinteticos/*:\n",
        "  * datos_sinteticos_dias_3_y_5.csv\n",
        "  * synthetic_3y5_sint2.csv\n",
        "  * synthetic_data_dia_3_si.csv\n",
        "  * synthetic_data_dia_4_si.csv\n",
        "  * synthetic_data_dia_5_si.csv\n",
        "\n",
        "Como también dos archivos extras que están en la capeta *data/03_AS/*:\n",
        "  * fiji_datos_mean_diam.csv\n",
        "  * fiji_datos_noise.csv\n",
        "  "
      ],
      "metadata": {
        "id": "k05k3tQXoo_q"
      }
    },
    {
      "cell_type": "markdown",
      "source": [
        "### Regresión"
      ],
      "metadata": {
        "id": "9Lr0nJQnpBVT"
      }
    },
    {
      "cell_type": "markdown",
      "source": [
        "\n",
        "1.   Utilizando del día 1 al 5 los datos clasificados como 'Esferoide' = 'si', realizar un ajuste del diámetro medio. Sean los datos reales *mean_diam_df* y la señal ruidosa *df_noise*.\n"
      ],
      "metadata": {
        "id": "V9tpZZcxpJsa"
      }
    },
    {
      "cell_type": "code",
      "source": [
        "mean_diam_df = pd.read_csv(\"data/03_AS/fiji_datos_mean_diam.csv\")\n",
        "mean_diam_df"
      ],
      "metadata": {
        "colab": {
          "base_uri": "https://localhost:8080/",
          "height": 238
        },
        "id": "n3PDpq_U8DhF",
        "outputId": "50fb2660-aaa9-4721-f844-a2209d28ddb2"
      },
      "execution_count": null,
      "outputs": [
        {
          "output_type": "execute_result",
          "data": {
            "text/plain": [
              "   dia        mean\n",
              "0    0   23.145003\n",
              "1    1   31.781506\n",
              "2    2   60.685558\n",
              "3    3  101.092311\n",
              "4    4   89.688273\n",
              "5    5  110.212304"
            ],
            "text/html": [
              "\n",
              "  <div id=\"df-d7b8d98a-1b7e-4f7e-9579-eb3092b25a0c\">\n",
              "    <div class=\"colab-df-container\">\n",
              "      <div>\n",
              "<style scoped>\n",
              "    .dataframe tbody tr th:only-of-type {\n",
              "        vertical-align: middle;\n",
              "    }\n",
              "\n",
              "    .dataframe tbody tr th {\n",
              "        vertical-align: top;\n",
              "    }\n",
              "\n",
              "    .dataframe thead th {\n",
              "        text-align: right;\n",
              "    }\n",
              "</style>\n",
              "<table border=\"1\" class=\"dataframe\">\n",
              "  <thead>\n",
              "    <tr style=\"text-align: right;\">\n",
              "      <th></th>\n",
              "      <th>dia</th>\n",
              "      <th>mean</th>\n",
              "    </tr>\n",
              "  </thead>\n",
              "  <tbody>\n",
              "    <tr>\n",
              "      <th>0</th>\n",
              "      <td>0</td>\n",
              "      <td>23.145003</td>\n",
              "    </tr>\n",
              "    <tr>\n",
              "      <th>1</th>\n",
              "      <td>1</td>\n",
              "      <td>31.781506</td>\n",
              "    </tr>\n",
              "    <tr>\n",
              "      <th>2</th>\n",
              "      <td>2</td>\n",
              "      <td>60.685558</td>\n",
              "    </tr>\n",
              "    <tr>\n",
              "      <th>3</th>\n",
              "      <td>3</td>\n",
              "      <td>101.092311</td>\n",
              "    </tr>\n",
              "    <tr>\n",
              "      <th>4</th>\n",
              "      <td>4</td>\n",
              "      <td>89.688273</td>\n",
              "    </tr>\n",
              "    <tr>\n",
              "      <th>5</th>\n",
              "      <td>5</td>\n",
              "      <td>110.212304</td>\n",
              "    </tr>\n",
              "  </tbody>\n",
              "</table>\n",
              "</div>\n",
              "      <button class=\"colab-df-convert\" onclick=\"convertToInteractive('df-d7b8d98a-1b7e-4f7e-9579-eb3092b25a0c')\"\n",
              "              title=\"Convert this dataframe to an interactive table.\"\n",
              "              style=\"display:none;\">\n",
              "        \n",
              "  <svg xmlns=\"http://www.w3.org/2000/svg\" height=\"24px\"viewBox=\"0 0 24 24\"\n",
              "       width=\"24px\">\n",
              "    <path d=\"M0 0h24v24H0V0z\" fill=\"none\"/>\n",
              "    <path d=\"M18.56 5.44l.94 2.06.94-2.06 2.06-.94-2.06-.94-.94-2.06-.94 2.06-2.06.94zm-11 1L8.5 8.5l.94-2.06 2.06-.94-2.06-.94L8.5 2.5l-.94 2.06-2.06.94zm10 10l.94 2.06.94-2.06 2.06-.94-2.06-.94-.94-2.06-.94 2.06-2.06.94z\"/><path d=\"M17.41 7.96l-1.37-1.37c-.4-.4-.92-.59-1.43-.59-.52 0-1.04.2-1.43.59L10.3 9.45l-7.72 7.72c-.78.78-.78 2.05 0 2.83L4 21.41c.39.39.9.59 1.41.59.51 0 1.02-.2 1.41-.59l7.78-7.78 2.81-2.81c.8-.78.8-2.07 0-2.86zM5.41 20L4 18.59l7.72-7.72 1.47 1.35L5.41 20z\"/>\n",
              "  </svg>\n",
              "      </button>\n",
              "      \n",
              "  <style>\n",
              "    .colab-df-container {\n",
              "      display:flex;\n",
              "      flex-wrap:wrap;\n",
              "      gap: 12px;\n",
              "    }\n",
              "\n",
              "    .colab-df-convert {\n",
              "      background-color: #E8F0FE;\n",
              "      border: none;\n",
              "      border-radius: 50%;\n",
              "      cursor: pointer;\n",
              "      display: none;\n",
              "      fill: #1967D2;\n",
              "      height: 32px;\n",
              "      padding: 0 0 0 0;\n",
              "      width: 32px;\n",
              "    }\n",
              "\n",
              "    .colab-df-convert:hover {\n",
              "      background-color: #E2EBFA;\n",
              "      box-shadow: 0px 1px 2px rgba(60, 64, 67, 0.3), 0px 1px 3px 1px rgba(60, 64, 67, 0.15);\n",
              "      fill: #174EA6;\n",
              "    }\n",
              "\n",
              "    [theme=dark] .colab-df-convert {\n",
              "      background-color: #3B4455;\n",
              "      fill: #D2E3FC;\n",
              "    }\n",
              "\n",
              "    [theme=dark] .colab-df-convert:hover {\n",
              "      background-color: #434B5C;\n",
              "      box-shadow: 0px 1px 3px 1px rgba(0, 0, 0, 0.15);\n",
              "      filter: drop-shadow(0px 1px 2px rgba(0, 0, 0, 0.3));\n",
              "      fill: #FFFFFF;\n",
              "    }\n",
              "  </style>\n",
              "\n",
              "      <script>\n",
              "        const buttonEl =\n",
              "          document.querySelector('#df-d7b8d98a-1b7e-4f7e-9579-eb3092b25a0c button.colab-df-convert');\n",
              "        buttonEl.style.display =\n",
              "          google.colab.kernel.accessAllowed ? 'block' : 'none';\n",
              "\n",
              "        async function convertToInteractive(key) {\n",
              "          const element = document.querySelector('#df-d7b8d98a-1b7e-4f7e-9579-eb3092b25a0c');\n",
              "          const dataTable =\n",
              "            await google.colab.kernel.invokeFunction('convertToInteractive',\n",
              "                                                     [key], {});\n",
              "          if (!dataTable) return;\n",
              "\n",
              "          const docLinkHtml = 'Like what you see? Visit the ' +\n",
              "            '<a target=\"_blank\" href=https://colab.research.google.com/notebooks/data_table.ipynb>data table notebook</a>'\n",
              "            + ' to learn more about interactive tables.';\n",
              "          element.innerHTML = '';\n",
              "          dataTable['output_type'] = 'display_data';\n",
              "          await google.colab.output.renderOutput(dataTable, element);\n",
              "          const docLink = document.createElement('div');\n",
              "          docLink.innerHTML = docLinkHtml;\n",
              "          element.appendChild(docLink);\n",
              "        }\n",
              "      </script>\n",
              "    </div>\n",
              "  </div>\n",
              "  "
            ]
          },
          "metadata": {},
          "execution_count": 4
        }
      ]
    },
    {
      "cell_type": "code",
      "source": [
        "df_noise = pd.read_csv(\"data/03_AS/fiji_datos_noise.csv\")\n",
        "#df_noise"
      ],
      "metadata": {
        "id": "TkjZrs2Z97Pm"
      },
      "execution_count": null,
      "outputs": []
    },
    {
      "cell_type": "code",
      "source": [
        "X_noise = df_noise['dia']\n",
        "y_noise = df_noise['mean']\n",
        "X_noise = np.array(X_noise.to_list())\n",
        "y_noise = np.array(y_noise.to_list())\n",
        "\n",
        "X_mean = mean_diam_df['dia']\n",
        "y_mean = mean_diam_df['mean']\n",
        "X_mean = np.array(X_mean.to_list())\n",
        "y_mean = np.array(y_mean.to_list())\n",
        "\n",
        "\n",
        "plt.scatter(X_noise, y_noise, color=\"blue\", label=\"noise\")\n",
        "plt.scatter(X_mean, y_mean, color=\"yellow\", label=\"mean\")\n",
        "plt.show()"
      ],
      "metadata": {
        "colab": {
          "base_uri": "https://localhost:8080/",
          "height": 279
        },
        "id": "FNUsPK9z-IpL",
        "outputId": "951950d0-97a9-472d-9daf-e560588880a4"
      },
      "execution_count": null,
      "outputs": [
        {
          "output_type": "display_data",
          "data": {
            "text/plain": [
              "<Figure size 432x288 with 1 Axes>"
            ],
            "image/png": "[encoded data removed]"
          },
          "metadata": {
            "needs_background": "light"
          }
        }
      ]
    },
    {
      "cell_type": "markdown",
      "source": [
        "Probar un ajuste lineal, polinomial, probar el ajuste \"óptimo\" que da el menor error cuadrático y sobreajuste.  "
      ],
      "metadata": {
        "id": "2EU5e4bKAFFk"
      }
    },
    {
      "cell_type": "markdown",
      "source": [
        "### Clasificación\n",
        "\n",
        "Aquí vamos a usar el dataset sin modificar, que se encuentra en 'raw/fiji_datos_0al7mo_labels.csv', en la carpeta del [repositorio](https://github.com/luciabarg/datos_tumoresferas/tree/main/data/datos_sinteticos) y de la [carpeta compartida](https://drive.google.com/drive/folders/1RqGNySwACN33Qopmw0nHmj5Yv4M78ZXi?usp=drive_link).\n",
        "\n",
        "1) Teniendo en cuenta la naturaleza de nuestros datos, es adecuado plantearlo como un problema supervisado? De qué tipo? Justificar.\n",
        "   \n",
        "2) El dataset que tenemos, es linealmente separable?\n",
        "\n",
        "2) Enumerar los pasos para generar un modelo de aprendizaje supervisado.  \n",
        "\n",
        "3) El paso de estándarización/normalización es necesario para todos los algoritmos de clasificación? Enumere en cuales no.\n",
        "\n",
        "4) Explorar las características de los datos sintéticos generados, comparar con los datos que tenemos de los días 3,4 y 5. Los datos se encuentran en la carpeta del [repositorio](https://github.com/luciabarg/datos_tumoresferas/tree/main/data/datos_sinteticos) y de la [carpeta compartida](https://drive.google.com/drive/folders/1RqGNySwACN33Qopmw0nHmj5Yv4M78ZXi?usp=drive_link):\n",
        "\n",
        "5) Generar los siguientes dataframes por separado:\n",
        "\n",
        "  * Tomar todo el dataset. Visualizar la cantidad de datos para cada clase y calcular el porcentaje de las mismas.\n",
        "\n",
        "  * Realizar clasificación con solo los datos del día 3, 4 y 5. Visualizar la cantidad de datos para cada clase y calcular el porcentaje de las mismas.\n",
        "\n",
        "  * Tomar solo los días 3,4 y 5 y sumar los datos sintéticos. Visualizar la cantidad de datos para cada clase y calcular el porcentaje de las mismas.\n",
        "  \n",
        "  * Realizar eliminación de outliers por día y y por etiqueta. Visualizar la cantidad de datos para cada clase y calcular el porcentaje de las mismas.\n",
        "\n",
        "  * Utilizando sólo PCA (si quieren de todos días o solo de los días 3,4 y 5) pero indicar cuál se tomó.\n",
        "\n",
        "\\\n",
        "**Elegir uno**, agregar columnas preprocesadas al original. Probar algún clasificador lineal como también DT, Random Forest, XGBoost.\n",
        "\n",
        "Separen en conjuntos de entrenamiento, test y validación, explorar con parámetros de defecto (modelo baseline) y con búsqueda de hiperparámetros y por medio de las diferentes métricas determinar cuál es el mejor algoritmo de clasificación.\n",
        "\n",
        "Sobre el mejor, probar si mejora o empeoran las métricas probando los demás escenarios.\n",
        "  \n",
        "Recordar eliminar una de las columnas altamente correlacionadas y también aquellas que no suman al problema. Si hubiera una columna constante, también deberían excluirla.\n",
        "\n",
        "En los algoritmos que lo permitan, hacer listado de importancia de features.\n",
        "\n",
        "Tenemos pocos datos, es muy posible que se genere overfitting. Cómo podrían tratar de solventar este inconveniente? Implementar si es posible.\n",
        "\n",
        "\\\n",
        "OPCIONAL:\n",
        "\n",
        "Para evitar la pérdida de datos excesiva por eliminación de outliers se puede usar el método de imputación de máximos por el percentil 99, buscar 'capping'.\n",
        "Además pueden sumar columnas que sean combinaciones/modificaciones de columnas, multiplicaciones, logaritmos, potencias..\n",
        "\n",
        "Si se animan, tenemos 5 días. Probar clasificación multiclase para identificar a q día se corresponden las muestras. O tomar solo los 3 que usaron en los algoritmos anteriores.\n",
        "\n",
        "Super buenas prácticas en este [repositorio](https://github.com/daianadte/wids-cba-2023/), es muy instructivo chusmear sobre todo el archivo  ['06_FinalModel.ipynb'](https://github.com/daianadte/wids-cba-2023/blob/main/06_FinalModel.ipynb) solo para que vean un análisis posterior a implementar los modelos y que existen los Shap Values, que es una técnica utilizada para explicar las predicciones.\n",
        "\n",
        "\n",
        "\n",
        "----\n",
        "Como este es el último práctico, si se animan, podrían implementar clústering.\n",
        "Pueden implementar kmeans sobre el dataset normalizado, usando PCA, o incluso animarse a probar t-SNE y UMAP (perdiendo interpretabilidad con estos últimos.)\n",
        "\n",
        "Muchas veces en problemas de negocios, no es importante el modelo en sí, qué tan bien separa los datos sino la interpretabilidad que se puede dar a los resultados. Podríamos coordinar con Luciano para charlar si lo que encontraron a partir de las agrupaciones, es coherente o no, sería como parte de charlar con el \"cliente\" a ver si está de acuerdo a lo hallado. O sea, pueden encontrar explicaciones a los datos distintos que la de \"esferoides\"."
      ],
      "metadata": {
        "id": "pGEKW8_oAkrQ"
      }
    },
    {
      "cell_type": "code",
      "source": [
        "# capping por el percentil 90\n",
        "def outliers_capping(df, col, percentil_sup = 0.9):\n",
        "    q_cap = df[col].quantile(percentil_sup)\n",
        "    print('q_cap', q_cap)\n",
        "    df.loc[df[col] > q_cap, col] = q_cap"
      ],
      "metadata": {
        "id": "3ooH1bI80mty"
      },
      "execution_count": null,
      "outputs": []
    },
    {
      "cell_type": "code",
      "source": [
        "# Cargamos nuestro dataset:\n",
        "import pandas as pd\n",
        "url = 'https://raw.githubusercontent.com/luciabarg/datos_tumoresferas/main/data/raw/fiji_datos_0al7mo_labels.csv'\n",
        "fiji_datos = pd.read_csv(url)\n",
        "fiji_datos.shape"
      ],
      "metadata": {
        "colab": {
          "base_uri": "https://localhost:8080/"
        },
        "id": "4Btg1OPm6Mw3",
        "outputId": "3e55bfa3-7c62-4c2a-e502-2a9da592c8b8"
      },
      "execution_count": null,
      "outputs": [
        {
          "output_type": "execute_result",
          "data": {
            "text/plain": [
              "(1018, 24)"
            ]
          },
          "metadata": {},
          "execution_count": 2
        }
      ]
    },
    {
      "cell_type": "code",
      "source": [
        "# exploramos los datos estadísticos de una variable, recuerden que deberían filtrar por día, filtrar si es esferoide o no, esto es solo para mostrar un ejemplo.\n",
        "fiji_datos['Area'].describe(percentiles = [0.25,0.75,0.90,0.95])"
      ],
      "metadata": {
        "colab": {
          "base_uri": "https://localhost:8080/"
        },
        "id": "rS5iUldN9JZP",
        "outputId": "ab3c3e70-3827-4cd3-db93-b71a2f0f5650"
      },
      "execution_count": null,
      "outputs": [
        {
          "output_type": "execute_result",
          "data": {
            "text/plain": [
              "count     1018.000000\n",
              "mean      1948.874361\n",
              "std       3366.692373\n",
              "min        100.148400\n",
              "25%        460.590400\n",
              "50%        781.803800\n",
              "75%       1570.761125\n",
              "90%       4601.012350\n",
              "95%       9453.411100\n",
              "max      22735.999500\n",
              "Name: Area, dtype: float64"
            ]
          },
          "metadata": {},
          "execution_count": 4
        }
      ]
    },
    {
      "cell_type": "code",
      "source": [
        "# Aplicamos capping a la variable elegida:\n",
        "outliers_capping(fiji_datos, 'Area', percentil_sup = 0.9)"
      ],
      "metadata": {
        "colab": {
          "base_uri": "https://localhost:8080/"
        },
        "id": "6wuLaCxCIwHd",
        "outputId": "3cc301e0-f87e-4832-9ba8-a26abb268a47"
      },
      "execution_count": null,
      "outputs": [
        {
          "output_type": "stream",
          "name": "stdout",
          "text": [
            "q_cap 4601.012350000004\n"
          ]
        }
      ]
    },
    {
      "cell_type": "code",
      "source": [
        "# exploramos como cambiaron los valores estadísticos y vemos que el máximo se corresponde con el percentil 90 anterior:\n",
        "fiji_datos['Area'].describe(percentiles = [0.25,0.75,0.90,0.95])\n"
      ],
      "metadata": {
        "colab": {
          "base_uri": "https://localhost:8080/"
        },
        "id": "el01wVkD_VEZ",
        "outputId": "50271c02-704f-4c3f-f7b3-c5efc596a0cd"
      },
      "execution_count": null,
      "outputs": [
        {
          "output_type": "execute_result",
          "data": {
            "text/plain": [
              "count    1018.000000\n",
              "mean     1358.304315\n",
              "std      1364.016520\n",
              "min       100.148400\n",
              "25%       460.590400\n",
              "50%       781.803800\n",
              "75%      1570.761125\n",
              "90%      4590.545215\n",
              "95%      4601.012350\n",
              "max      4601.012350\n",
              "Name: Area, dtype: float64"
            ]
          },
          "metadata": {},
          "execution_count": 6
        }
      ]
    },
    {
      "cell_type": "code",
      "source": [],
      "metadata": {
        "id": "Odi-DwYrBOMd"
      },
      "execution_count": null,
      "outputs": []
    }
  ],
  "metadata": {
    "colab": {
      "provenance": [],
      "include_colab_link": true
    },
    "kernelspec": {
      "display_name": "Python 3 (ipykernel)",
      "language": "python",
      "name": "python3"
    },
    "language_info": {
      "codemirror_mode": {
        "name": "ipython",
        "version": 3
      },
      "file_extension": ".py",
      "mimetype": "text/x-python",
      "name": "python",
      "nbconvert_exporter": "python",
      "pygments_lexer": "ipython3",
      "version": "3.9.12"
    }
  },
  "nbformat": 4,
  "nbformat_minor": 0
}